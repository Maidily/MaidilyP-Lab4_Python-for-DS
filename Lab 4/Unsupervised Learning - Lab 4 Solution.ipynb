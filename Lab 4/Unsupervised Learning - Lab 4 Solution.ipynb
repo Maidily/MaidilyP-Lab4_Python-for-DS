{
 "cells": [
  {
   "cell_type": "markdown",
   "id": "83f26a29",
   "metadata": {
    "id": "83f26a29"
   },
   "source": [
    "# Unsupervised Lab Session"
   ]
  },
  {
   "cell_type": "markdown",
   "id": "8ea571d1",
   "metadata": {
    "id": "8ea571d1"
   },
   "source": [
    "## Learning outcomes:\n",
    "- Exploratory data analysis and data preparation for model building.\n",
    "- PCA for dimensionality reduction.\n",
    "- K-means and Agglomerative Clustering"
   ]
  },
  {
   "cell_type": "markdown",
   "id": "fd7f778a",
   "metadata": {
    "id": "fd7f778a"
   },
   "source": [
    "## Problem Statement\n",
    "Based on the given marketing campigan dataset, segment the similar customers into suitable clusters. Analyze the clusters and provide your insights to help the organization promote their business."
   ]
  },
  {
   "cell_type": "markdown",
   "id": "33b58f8f",
   "metadata": {
    "id": "33b58f8f"
   },
   "source": [
    "## Context:\n",
    "- Customer Personality Analysis is a detailed analysis of a company’s ideal customers. It helps a business to better understand its customers and makes it easier for them to modify products according to the specific needs, behaviors and concerns of different types of customers.\n",
    "- Customer personality analysis helps a business to modify its product based on its target customers from different types of customer segments. For example, instead of spending money to market a new product to every customer in the company’s database, a company can analyze which customer segment is most likely to buy the product and then market the product only on that particular segment."
   ]
  },
  {
   "cell_type": "markdown",
   "id": "867166aa",
   "metadata": {
    "id": "867166aa"
   },
   "source": [
    "## About dataset\n",
    "- Source: https://www.kaggle.com/datasets/imakash3011/customer-personality-analysis?datasetId=1546318&sortBy=voteCount\n",
    "\n",
    "### Attribute Information:\n",
    "- ID: Customer's unique identifier\n",
    "- Year_Birth: Customer's birth year\n",
    "- Education: Customer's education level\n",
    "- Marital_Status: Customer's marital status\n",
    "- Income: Customer's yearly household income\n",
    "- Kidhome: Number of children in customer's household\n",
    "- Teenhome: Number of teenagers in customer's household\n",
    "- Dt_Customer: Date of customer's enrollment with the company\n",
    "- Recency: Number of days since customer's last purchase\n",
    "- Complain: 1 if the customer complained in the last 2 years, 0 otherwise\n",
    "- MntWines: Amount spent on wine in last 2 years\n",
    "- MntFruits: Amount spent on fruits in last 2 years\n",
    "- MntMeatProducts: Amount spent on meat in last 2 years\n",
    "- MntFishProducts: Amount spent on fish in last 2 years\n",
    "- MntSweetProducts: Amount spent on sweets in last 2 years\n",
    "- MntGoldProds: Amount spent on gold in last 2 years\n",
    "- NumDealsPurchases: Number of purchases made with a discount\n",
    "- AcceptedCmp1: 1 if customer accepted the offer in the 1st campaign, 0 otherwise\n",
    "- AcceptedCmp2: 1 if customer accepted the offer in the 2nd campaign, 0 otherwise\n",
    "- AcceptedCmp3: 1 if customer accepted the offer in the 3rd campaign, 0 otherwise\n",
    "- AcceptedCmp4: 1 if customer accepted the offer in the 4th campaign, 0 otherwise\n",
    "- AcceptedCmp5: 1 if customer accepted the offer in the 5th campaign, 0 otherwise\n",
    "- Response: 1 if customer accepted the offer in the last campaign, 0 otherwise\n",
    "- NumWebPurchases: Number of purchases made through the company’s website\n",
    "- NumCatalogPurchases: Number of purchases made using a catalogue\n",
    "- NumStorePurchases: Number of purchases made directly in stores\n",
    "- NumWebVisitsMonth: Number of visits to company’s website in the last month"
   ]
  },
  {
   "cell_type": "markdown",
   "id": "5a830406",
   "metadata": {
    "id": "5a830406"
   },
   "source": [
    "### 1. Import required libraries"
   ]
  },
  {
   "cell_type": "code",
   "execution_count": 1,
   "id": "d65c5528",
   "metadata": {
    "id": "d65c5528"
   },
   "outputs": [],
   "source": [
    "## importing libraries \n",
    "\n",
    "import numpy as np\n",
    "import pandas as pd\n",
    "%matplotlib inline\n",
    "import matplotlib.pyplot as plt\n",
    "import seaborn as sns\n",
    "sns.set(style = \"ticks\")\n",
    "import warnings\n",
    "warnings.filterwarnings('ignore')\n",
    "\n",
    "import sklearn\n",
    "from sklearn.model_selection import train_test_split\n",
    "from sklearn.preprocessing import StandardScaler\n",
    "from sklearn.preprocessing import LabelEncoder\n",
    "\n",
    "from sklearn.decomposition import PCA\n",
    "from sklearn import preprocessing\n",
    "from sklearn.preprocessing import Normalizer\n",
    "from sklearn.cluster import KMeans\n",
    "from scipy.stats import zscore\n",
    "from scipy.spatial import distance\n",
    "from scipy.cluster.hierarchy import linkage, dendrogram, fcluster\n",
    "from sklearn.cluster import AgglomerativeClustering\n",
    "from sklearn.metrics import silhouette_score"
   ]
  },
  {
   "cell_type": "markdown",
   "id": "c80eb960",
   "metadata": {
    "id": "c80eb960"
   },
   "source": [
    "### 2. Load the CSV file (i.e marketing.csv) and display the first 5 rows of the dataframe. Check the shape and info of the dataset."
   ]
  },
  {
   "cell_type": "code",
   "execution_count": 2,
   "id": "1caebc10",
   "metadata": {
    "id": "1caebc10"
   },
   "outputs": [
    {
     "data": {
      "text/html": [
       "<div>\n",
       "<style scoped>\n",
       "    .dataframe tbody tr th:only-of-type {\n",
       "        vertical-align: middle;\n",
       "    }\n",
       "\n",
       "    .dataframe tbody tr th {\n",
       "        vertical-align: top;\n",
       "    }\n",
       "\n",
       "    .dataframe thead th {\n",
       "        text-align: right;\n",
       "    }\n",
       "</style>\n",
       "<table border=\"1\" class=\"dataframe\">\n",
       "  <thead>\n",
       "    <tr style=\"text-align: right;\">\n",
       "      <th></th>\n",
       "      <th>ID</th>\n",
       "      <th>Year_Birth</th>\n",
       "      <th>Education</th>\n",
       "      <th>Marital_Status</th>\n",
       "      <th>Income</th>\n",
       "      <th>Kidhome</th>\n",
       "      <th>Teenhome</th>\n",
       "      <th>Dt_Customer</th>\n",
       "      <th>Recency</th>\n",
       "      <th>MntWines</th>\n",
       "      <th>MntFruits</th>\n",
       "      <th>MntMeatProducts</th>\n",
       "      <th>MntFishProducts</th>\n",
       "      <th>MntSweetProducts</th>\n",
       "      <th>MntGoldProds</th>\n",
       "      <th>NumDealsPurchases</th>\n",
       "      <th>NumWebPurchases</th>\n",
       "      <th>NumCatalogPurchases</th>\n",
       "      <th>NumStorePurchases</th>\n",
       "      <th>NumWebVisitsMonth</th>\n",
       "      <th>AcceptedCmp3</th>\n",
       "      <th>AcceptedCmp4</th>\n",
       "      <th>AcceptedCmp5</th>\n",
       "      <th>AcceptedCmp1</th>\n",
       "      <th>AcceptedCmp2</th>\n",
       "      <th>Complain</th>\n",
       "      <th>Response</th>\n",
       "    </tr>\n",
       "  </thead>\n",
       "  <tbody>\n",
       "    <tr>\n",
       "      <th>0</th>\n",
       "      <td>5524</td>\n",
       "      <td>1957</td>\n",
       "      <td>Graduation</td>\n",
       "      <td>Single</td>\n",
       "      <td>58138.0</td>\n",
       "      <td>0</td>\n",
       "      <td>0</td>\n",
       "      <td>4/9/2012</td>\n",
       "      <td>58</td>\n",
       "      <td>635</td>\n",
       "      <td>88</td>\n",
       "      <td>546</td>\n",
       "      <td>172</td>\n",
       "      <td>88</td>\n",
       "      <td>88</td>\n",
       "      <td>3</td>\n",
       "      <td>8</td>\n",
       "      <td>10</td>\n",
       "      <td>4</td>\n",
       "      <td>7</td>\n",
       "      <td>0</td>\n",
       "      <td>0</td>\n",
       "      <td>0</td>\n",
       "      <td>0</td>\n",
       "      <td>0</td>\n",
       "      <td>0</td>\n",
       "      <td>1</td>\n",
       "    </tr>\n",
       "    <tr>\n",
       "      <th>1</th>\n",
       "      <td>2174</td>\n",
       "      <td>1954</td>\n",
       "      <td>Graduation</td>\n",
       "      <td>Single</td>\n",
       "      <td>46344.0</td>\n",
       "      <td>1</td>\n",
       "      <td>1</td>\n",
       "      <td>8/3/2014</td>\n",
       "      <td>38</td>\n",
       "      <td>11</td>\n",
       "      <td>1</td>\n",
       "      <td>6</td>\n",
       "      <td>2</td>\n",
       "      <td>1</td>\n",
       "      <td>6</td>\n",
       "      <td>2</td>\n",
       "      <td>1</td>\n",
       "      <td>1</td>\n",
       "      <td>2</td>\n",
       "      <td>5</td>\n",
       "      <td>0</td>\n",
       "      <td>0</td>\n",
       "      <td>0</td>\n",
       "      <td>0</td>\n",
       "      <td>0</td>\n",
       "      <td>0</td>\n",
       "      <td>0</td>\n",
       "    </tr>\n",
       "    <tr>\n",
       "      <th>2</th>\n",
       "      <td>4141</td>\n",
       "      <td>1965</td>\n",
       "      <td>Graduation</td>\n",
       "      <td>Together</td>\n",
       "      <td>71613.0</td>\n",
       "      <td>0</td>\n",
       "      <td>0</td>\n",
       "      <td>21-08-2013</td>\n",
       "      <td>26</td>\n",
       "      <td>426</td>\n",
       "      <td>49</td>\n",
       "      <td>127</td>\n",
       "      <td>111</td>\n",
       "      <td>21</td>\n",
       "      <td>42</td>\n",
       "      <td>1</td>\n",
       "      <td>8</td>\n",
       "      <td>2</td>\n",
       "      <td>10</td>\n",
       "      <td>4</td>\n",
       "      <td>0</td>\n",
       "      <td>0</td>\n",
       "      <td>0</td>\n",
       "      <td>0</td>\n",
       "      <td>0</td>\n",
       "      <td>0</td>\n",
       "      <td>0</td>\n",
       "    </tr>\n",
       "    <tr>\n",
       "      <th>3</th>\n",
       "      <td>6182</td>\n",
       "      <td>1984</td>\n",
       "      <td>Graduation</td>\n",
       "      <td>Together</td>\n",
       "      <td>26646.0</td>\n",
       "      <td>1</td>\n",
       "      <td>0</td>\n",
       "      <td>10/2/2014</td>\n",
       "      <td>26</td>\n",
       "      <td>11</td>\n",
       "      <td>4</td>\n",
       "      <td>20</td>\n",
       "      <td>10</td>\n",
       "      <td>3</td>\n",
       "      <td>5</td>\n",
       "      <td>2</td>\n",
       "      <td>2</td>\n",
       "      <td>0</td>\n",
       "      <td>4</td>\n",
       "      <td>6</td>\n",
       "      <td>0</td>\n",
       "      <td>0</td>\n",
       "      <td>0</td>\n",
       "      <td>0</td>\n",
       "      <td>0</td>\n",
       "      <td>0</td>\n",
       "      <td>0</td>\n",
       "    </tr>\n",
       "    <tr>\n",
       "      <th>4</th>\n",
       "      <td>5324</td>\n",
       "      <td>1981</td>\n",
       "      <td>PhD</td>\n",
       "      <td>Married</td>\n",
       "      <td>58293.0</td>\n",
       "      <td>1</td>\n",
       "      <td>0</td>\n",
       "      <td>19-01-2014</td>\n",
       "      <td>94</td>\n",
       "      <td>173</td>\n",
       "      <td>43</td>\n",
       "      <td>118</td>\n",
       "      <td>46</td>\n",
       "      <td>27</td>\n",
       "      <td>15</td>\n",
       "      <td>5</td>\n",
       "      <td>5</td>\n",
       "      <td>3</td>\n",
       "      <td>6</td>\n",
       "      <td>5</td>\n",
       "      <td>0</td>\n",
       "      <td>0</td>\n",
       "      <td>0</td>\n",
       "      <td>0</td>\n",
       "      <td>0</td>\n",
       "      <td>0</td>\n",
       "      <td>0</td>\n",
       "    </tr>\n",
       "  </tbody>\n",
       "</table>\n",
       "</div>"
      ],
      "text/plain": [
       "     ID  Year_Birth   Education Marital_Status   Income  Kidhome  Teenhome  \\\n",
       "0  5524        1957  Graduation         Single  58138.0        0         0   \n",
       "1  2174        1954  Graduation         Single  46344.0        1         1   \n",
       "2  4141        1965  Graduation       Together  71613.0        0         0   \n",
       "3  6182        1984  Graduation       Together  26646.0        1         0   \n",
       "4  5324        1981         PhD        Married  58293.0        1         0   \n",
       "\n",
       "  Dt_Customer  Recency  MntWines  MntFruits  MntMeatProducts  MntFishProducts  \\\n",
       "0    4/9/2012       58       635         88              546              172   \n",
       "1    8/3/2014       38        11          1                6                2   \n",
       "2  21-08-2013       26       426         49              127              111   \n",
       "3   10/2/2014       26        11          4               20               10   \n",
       "4  19-01-2014       94       173         43              118               46   \n",
       "\n",
       "   MntSweetProducts  MntGoldProds  NumDealsPurchases  NumWebPurchases  \\\n",
       "0                88            88                  3                8   \n",
       "1                 1             6                  2                1   \n",
       "2                21            42                  1                8   \n",
       "3                 3             5                  2                2   \n",
       "4                27            15                  5                5   \n",
       "\n",
       "   NumCatalogPurchases  NumStorePurchases  NumWebVisitsMonth  AcceptedCmp3  \\\n",
       "0                   10                  4                  7             0   \n",
       "1                    1                  2                  5             0   \n",
       "2                    2                 10                  4             0   \n",
       "3                    0                  4                  6             0   \n",
       "4                    3                  6                  5             0   \n",
       "\n",
       "   AcceptedCmp4  AcceptedCmp5  AcceptedCmp1  AcceptedCmp2  Complain  Response  \n",
       "0             0             0             0             0         0         1  \n",
       "1             0             0             0             0         0         0  \n",
       "2             0             0             0             0         0         0  \n",
       "3             0             0             0             0         0         0  \n",
       "4             0             0             0             0         0         0  "
      ]
     },
     "execution_count": 2,
     "metadata": {},
     "output_type": "execute_result"
    }
   ],
   "source": [
    "## reading dataset\n",
    "\n",
    "data = pd.read_csv(r'marketing.csv')\n",
    "\n",
    "## setting max columns to none\n",
    "pd.set_option('display.max_columns', None)\n",
    "\n",
    "\n",
    "data.head()"
   ]
  },
  {
   "cell_type": "markdown",
   "id": "9ef75724",
   "metadata": {
    "id": "9ef75724"
   },
   "source": [
    "### 3. Check the percentage of missing values? If there is presence of missing values, treat them accordingly."
   ]
  },
  {
   "cell_type": "code",
   "execution_count": 3,
   "id": "f2c231df",
   "metadata": {
    "id": "f2c231df"
   },
   "outputs": [
    {
     "data": {
      "text/plain": [
       "ID                     0.000000\n",
       "Year_Birth             0.000000\n",
       "Education              0.000000\n",
       "Marital_Status         0.000000\n",
       "Income                 1.071429\n",
       "Kidhome                0.000000\n",
       "Teenhome               0.000000\n",
       "Dt_Customer            0.000000\n",
       "Recency                0.000000\n",
       "MntWines               0.000000\n",
       "MntFruits              0.000000\n",
       "MntMeatProducts        0.000000\n",
       "MntFishProducts        0.000000\n",
       "MntSweetProducts       0.000000\n",
       "MntGoldProds           0.000000\n",
       "NumDealsPurchases      0.000000\n",
       "NumWebPurchases        0.000000\n",
       "NumCatalogPurchases    0.000000\n",
       "NumStorePurchases      0.000000\n",
       "NumWebVisitsMonth      0.000000\n",
       "AcceptedCmp3           0.000000\n",
       "AcceptedCmp4           0.000000\n",
       "AcceptedCmp5           0.000000\n",
       "AcceptedCmp1           0.000000\n",
       "AcceptedCmp2           0.000000\n",
       "Complain               0.000000\n",
       "Response               0.000000\n",
       "dtype: float64"
      ]
     },
     "execution_count": 3,
     "metadata": {},
     "output_type": "execute_result"
    }
   ],
   "source": [
    "## getting percentage of missing values\n",
    "\n",
    "(data.isnull().sum()/len(data))*100"
   ]
  },
  {
   "cell_type": "code",
   "execution_count": 4,
   "id": "053bc2e3",
   "metadata": {},
   "outputs": [
    {
     "data": {
      "text/plain": [
       "ID                     0.0\n",
       "Year_Birth             0.0\n",
       "Education              0.0\n",
       "Marital_Status         0.0\n",
       "Income                 0.0\n",
       "Kidhome                0.0\n",
       "Teenhome               0.0\n",
       "Dt_Customer            0.0\n",
       "Recency                0.0\n",
       "MntWines               0.0\n",
       "MntFruits              0.0\n",
       "MntMeatProducts        0.0\n",
       "MntFishProducts        0.0\n",
       "MntSweetProducts       0.0\n",
       "MntGoldProds           0.0\n",
       "NumDealsPurchases      0.0\n",
       "NumWebPurchases        0.0\n",
       "NumCatalogPurchases    0.0\n",
       "NumStorePurchases      0.0\n",
       "NumWebVisitsMonth      0.0\n",
       "AcceptedCmp3           0.0\n",
       "AcceptedCmp4           0.0\n",
       "AcceptedCmp5           0.0\n",
       "AcceptedCmp1           0.0\n",
       "AcceptedCmp2           0.0\n",
       "Complain               0.0\n",
       "Response               0.0\n",
       "dtype: float64"
      ]
     },
     "execution_count": 4,
     "metadata": {},
     "output_type": "execute_result"
    }
   ],
   "source": [
    "## including imputation for missing entries\n",
    "\n",
    "## Imputation for column 'Income' - float dataype\n",
    "data[[\"Income\"]] = data[[\"Income\"]].fillna(0)\n",
    "\n",
    "(data.isnull().sum()/len(data))*100"
   ]
  },
  {
   "cell_type": "markdown",
   "id": "86f3709e",
   "metadata": {
    "id": "86f3709e"
   },
   "source": [
    "### 4. Check if there are any duplicate records in the dataset? If any drop them."
   ]
  },
  {
   "cell_type": "code",
   "execution_count": 5,
   "id": "2970671a",
   "metadata": {
    "id": "2970671a"
   },
   "outputs": [
    {
     "data": {
      "text/html": [
       "<div>\n",
       "<style scoped>\n",
       "    .dataframe tbody tr th:only-of-type {\n",
       "        vertical-align: middle;\n",
       "    }\n",
       "\n",
       "    .dataframe tbody tr th {\n",
       "        vertical-align: top;\n",
       "    }\n",
       "\n",
       "    .dataframe thead th {\n",
       "        text-align: right;\n",
       "    }\n",
       "</style>\n",
       "<table border=\"1\" class=\"dataframe\">\n",
       "  <thead>\n",
       "    <tr style=\"text-align: right;\">\n",
       "      <th></th>\n",
       "      <th>ID</th>\n",
       "      <th>Year_Birth</th>\n",
       "      <th>Education</th>\n",
       "      <th>Marital_Status</th>\n",
       "      <th>Income</th>\n",
       "      <th>Kidhome</th>\n",
       "      <th>Teenhome</th>\n",
       "      <th>Dt_Customer</th>\n",
       "      <th>Recency</th>\n",
       "      <th>MntWines</th>\n",
       "      <th>MntFruits</th>\n",
       "      <th>MntMeatProducts</th>\n",
       "      <th>MntFishProducts</th>\n",
       "      <th>MntSweetProducts</th>\n",
       "      <th>MntGoldProds</th>\n",
       "      <th>NumDealsPurchases</th>\n",
       "      <th>NumWebPurchases</th>\n",
       "      <th>NumCatalogPurchases</th>\n",
       "      <th>NumStorePurchases</th>\n",
       "      <th>NumWebVisitsMonth</th>\n",
       "      <th>AcceptedCmp3</th>\n",
       "      <th>AcceptedCmp4</th>\n",
       "      <th>AcceptedCmp5</th>\n",
       "      <th>AcceptedCmp1</th>\n",
       "      <th>AcceptedCmp2</th>\n",
       "      <th>Complain</th>\n",
       "      <th>Response</th>\n",
       "    </tr>\n",
       "  </thead>\n",
       "  <tbody>\n",
       "  </tbody>\n",
       "</table>\n",
       "</div>"
      ],
      "text/plain": [
       "Empty DataFrame\n",
       "Columns: [ID, Year_Birth, Education, Marital_Status, Income, Kidhome, Teenhome, Dt_Customer, Recency, MntWines, MntFruits, MntMeatProducts, MntFishProducts, MntSweetProducts, MntGoldProds, NumDealsPurchases, NumWebPurchases, NumCatalogPurchases, NumStorePurchases, NumWebVisitsMonth, AcceptedCmp3, AcceptedCmp4, AcceptedCmp5, AcceptedCmp1, AcceptedCmp2, Complain, Response]\n",
       "Index: []"
      ]
     },
     "execution_count": 5,
     "metadata": {},
     "output_type": "execute_result"
    }
   ],
   "source": [
    "## getting duplicate records in the dataset\n",
    "\n",
    "data[data.duplicated()]"
   ]
  },
  {
   "cell_type": "markdown",
   "id": "3a6f2b5a",
   "metadata": {
    "id": "3a6f2b5a"
   },
   "source": [
    "### 5. Drop the columns which you think redundant for the analysis "
   ]
  },
  {
   "cell_type": "code",
   "execution_count": 6,
   "id": "a9ca818b",
   "metadata": {
    "id": "a9ca818b"
   },
   "outputs": [
    {
     "data": {
      "text/html": [
       "<div>\n",
       "<style scoped>\n",
       "    .dataframe tbody tr th:only-of-type {\n",
       "        vertical-align: middle;\n",
       "    }\n",
       "\n",
       "    .dataframe tbody tr th {\n",
       "        vertical-align: top;\n",
       "    }\n",
       "\n",
       "    .dataframe thead th {\n",
       "        text-align: right;\n",
       "    }\n",
       "</style>\n",
       "<table border=\"1\" class=\"dataframe\">\n",
       "  <thead>\n",
       "    <tr style=\"text-align: right;\">\n",
       "      <th></th>\n",
       "      <th>Year_Birth</th>\n",
       "      <th>Education</th>\n",
       "      <th>Marital_Status</th>\n",
       "      <th>Income</th>\n",
       "      <th>Kidhome</th>\n",
       "      <th>Teenhome</th>\n",
       "      <th>Recency</th>\n",
       "      <th>MntWines</th>\n",
       "      <th>MntFruits</th>\n",
       "      <th>MntMeatProducts</th>\n",
       "      <th>MntFishProducts</th>\n",
       "      <th>MntSweetProducts</th>\n",
       "      <th>MntGoldProds</th>\n",
       "      <th>NumDealsPurchases</th>\n",
       "      <th>NumWebPurchases</th>\n",
       "      <th>NumCatalogPurchases</th>\n",
       "      <th>NumStorePurchases</th>\n",
       "      <th>NumWebVisitsMonth</th>\n",
       "      <th>AcceptedCmp3</th>\n",
       "      <th>AcceptedCmp4</th>\n",
       "      <th>AcceptedCmp5</th>\n",
       "      <th>AcceptedCmp1</th>\n",
       "      <th>AcceptedCmp2</th>\n",
       "      <th>Complain</th>\n",
       "      <th>Response</th>\n",
       "    </tr>\n",
       "  </thead>\n",
       "  <tbody>\n",
       "    <tr>\n",
       "      <th>0</th>\n",
       "      <td>1957</td>\n",
       "      <td>Graduation</td>\n",
       "      <td>Single</td>\n",
       "      <td>58138.0</td>\n",
       "      <td>0</td>\n",
       "      <td>0</td>\n",
       "      <td>58</td>\n",
       "      <td>635</td>\n",
       "      <td>88</td>\n",
       "      <td>546</td>\n",
       "      <td>172</td>\n",
       "      <td>88</td>\n",
       "      <td>88</td>\n",
       "      <td>3</td>\n",
       "      <td>8</td>\n",
       "      <td>10</td>\n",
       "      <td>4</td>\n",
       "      <td>7</td>\n",
       "      <td>0</td>\n",
       "      <td>0</td>\n",
       "      <td>0</td>\n",
       "      <td>0</td>\n",
       "      <td>0</td>\n",
       "      <td>0</td>\n",
       "      <td>1</td>\n",
       "    </tr>\n",
       "    <tr>\n",
       "      <th>1</th>\n",
       "      <td>1954</td>\n",
       "      <td>Graduation</td>\n",
       "      <td>Single</td>\n",
       "      <td>46344.0</td>\n",
       "      <td>1</td>\n",
       "      <td>1</td>\n",
       "      <td>38</td>\n",
       "      <td>11</td>\n",
       "      <td>1</td>\n",
       "      <td>6</td>\n",
       "      <td>2</td>\n",
       "      <td>1</td>\n",
       "      <td>6</td>\n",
       "      <td>2</td>\n",
       "      <td>1</td>\n",
       "      <td>1</td>\n",
       "      <td>2</td>\n",
       "      <td>5</td>\n",
       "      <td>0</td>\n",
       "      <td>0</td>\n",
       "      <td>0</td>\n",
       "      <td>0</td>\n",
       "      <td>0</td>\n",
       "      <td>0</td>\n",
       "      <td>0</td>\n",
       "    </tr>\n",
       "    <tr>\n",
       "      <th>2</th>\n",
       "      <td>1965</td>\n",
       "      <td>Graduation</td>\n",
       "      <td>Together</td>\n",
       "      <td>71613.0</td>\n",
       "      <td>0</td>\n",
       "      <td>0</td>\n",
       "      <td>26</td>\n",
       "      <td>426</td>\n",
       "      <td>49</td>\n",
       "      <td>127</td>\n",
       "      <td>111</td>\n",
       "      <td>21</td>\n",
       "      <td>42</td>\n",
       "      <td>1</td>\n",
       "      <td>8</td>\n",
       "      <td>2</td>\n",
       "      <td>10</td>\n",
       "      <td>4</td>\n",
       "      <td>0</td>\n",
       "      <td>0</td>\n",
       "      <td>0</td>\n",
       "      <td>0</td>\n",
       "      <td>0</td>\n",
       "      <td>0</td>\n",
       "      <td>0</td>\n",
       "    </tr>\n",
       "    <tr>\n",
       "      <th>3</th>\n",
       "      <td>1984</td>\n",
       "      <td>Graduation</td>\n",
       "      <td>Together</td>\n",
       "      <td>26646.0</td>\n",
       "      <td>1</td>\n",
       "      <td>0</td>\n",
       "      <td>26</td>\n",
       "      <td>11</td>\n",
       "      <td>4</td>\n",
       "      <td>20</td>\n",
       "      <td>10</td>\n",
       "      <td>3</td>\n",
       "      <td>5</td>\n",
       "      <td>2</td>\n",
       "      <td>2</td>\n",
       "      <td>0</td>\n",
       "      <td>4</td>\n",
       "      <td>6</td>\n",
       "      <td>0</td>\n",
       "      <td>0</td>\n",
       "      <td>0</td>\n",
       "      <td>0</td>\n",
       "      <td>0</td>\n",
       "      <td>0</td>\n",
       "      <td>0</td>\n",
       "    </tr>\n",
       "    <tr>\n",
       "      <th>4</th>\n",
       "      <td>1981</td>\n",
       "      <td>PhD</td>\n",
       "      <td>Married</td>\n",
       "      <td>58293.0</td>\n",
       "      <td>1</td>\n",
       "      <td>0</td>\n",
       "      <td>94</td>\n",
       "      <td>173</td>\n",
       "      <td>43</td>\n",
       "      <td>118</td>\n",
       "      <td>46</td>\n",
       "      <td>27</td>\n",
       "      <td>15</td>\n",
       "      <td>5</td>\n",
       "      <td>5</td>\n",
       "      <td>3</td>\n",
       "      <td>6</td>\n",
       "      <td>5</td>\n",
       "      <td>0</td>\n",
       "      <td>0</td>\n",
       "      <td>0</td>\n",
       "      <td>0</td>\n",
       "      <td>0</td>\n",
       "      <td>0</td>\n",
       "      <td>0</td>\n",
       "    </tr>\n",
       "  </tbody>\n",
       "</table>\n",
       "</div>"
      ],
      "text/plain": [
       "   Year_Birth   Education Marital_Status   Income  Kidhome  Teenhome  Recency  \\\n",
       "0        1957  Graduation         Single  58138.0        0         0       58   \n",
       "1        1954  Graduation         Single  46344.0        1         1       38   \n",
       "2        1965  Graduation       Together  71613.0        0         0       26   \n",
       "3        1984  Graduation       Together  26646.0        1         0       26   \n",
       "4        1981         PhD        Married  58293.0        1         0       94   \n",
       "\n",
       "   MntWines  MntFruits  MntMeatProducts  MntFishProducts  MntSweetProducts  \\\n",
       "0       635         88              546              172                88   \n",
       "1        11          1                6                2                 1   \n",
       "2       426         49              127              111                21   \n",
       "3        11          4               20               10                 3   \n",
       "4       173         43              118               46                27   \n",
       "\n",
       "   MntGoldProds  NumDealsPurchases  NumWebPurchases  NumCatalogPurchases  \\\n",
       "0            88                  3                8                   10   \n",
       "1             6                  2                1                    1   \n",
       "2            42                  1                8                    2   \n",
       "3             5                  2                2                    0   \n",
       "4            15                  5                5                    3   \n",
       "\n",
       "   NumStorePurchases  NumWebVisitsMonth  AcceptedCmp3  AcceptedCmp4  \\\n",
       "0                  4                  7             0             0   \n",
       "1                  2                  5             0             0   \n",
       "2                 10                  4             0             0   \n",
       "3                  4                  6             0             0   \n",
       "4                  6                  5             0             0   \n",
       "\n",
       "   AcceptedCmp5  AcceptedCmp1  AcceptedCmp2  Complain  Response  \n",
       "0             0             0             0         0         1  \n",
       "1             0             0             0         0         0  \n",
       "2             0             0             0         0         0  \n",
       "3             0             0             0         0         0  \n",
       "4             0             0             0         0         0  "
      ]
     },
     "execution_count": 6,
     "metadata": {},
     "output_type": "execute_result"
    }
   ],
   "source": [
    "## dropping columns 'ID' and 'Dt_Customer'\n",
    "\n",
    "data = data.drop(['ID','Dt_Customer'], axis=1)\n",
    "data.head(5)"
   ]
  },
  {
   "cell_type": "markdown",
   "id": "4ff0a112",
   "metadata": {
    "id": "4ff0a112"
   },
   "source": [
    "### 6. Check the unique categories in the column 'Marital_Status'\n",
    "- i) Group categories 'Married', 'Together' as 'relationship'\n",
    "- ii) Group categories 'Divorced', 'Widow', 'Alone', 'YOLO', and 'Absurd' as 'Single'."
   ]
  },
  {
   "cell_type": "code",
   "execution_count": 7,
   "id": "eb1be519",
   "metadata": {
    "id": "eb1be519"
   },
   "outputs": [
    {
     "data": {
      "text/plain": [
       "array(['Single', 'Together', 'Married', 'Divorced', 'Widow', 'Alone',\n",
       "       'Absurd', 'YOLO'], dtype=object)"
      ]
     },
     "execution_count": 7,
     "metadata": {},
     "output_type": "execute_result"
    }
   ],
   "source": [
    "## checking unique categories in the column 'Marital_Status'\n",
    "\n",
    "data['Marital_Status'].unique()"
   ]
  },
  {
   "cell_type": "code",
   "execution_count": 8,
   "id": "67366eec",
   "metadata": {},
   "outputs": [
    {
     "data": {
      "text/plain": [
       "array(['Single', 'Relationship'], dtype=object)"
      ]
     },
     "execution_count": 8,
     "metadata": {},
     "output_type": "execute_result"
    }
   ],
   "source": [
    "## Replacing 'Married', 'Together' as 'Relationship'; 'Divorced', 'Widow', 'Alone', 'YOLO', and 'Absurd' as 'Single'\n",
    "\n",
    "data['Marital_Status'] = data['Marital_Status'].replace({'Married':'Relationship','Together':'Relationship',\n",
    "                                                        'Divorced':'Single','Widow':'Single','Alone':'Single','YOLO':'Single','Absurd':'Single'})\n",
    "\n",
    "data['Marital_Status'].unique()"
   ]
  },
  {
   "cell_type": "markdown",
   "id": "9566bfbe",
   "metadata": {
    "id": "9566bfbe"
   },
   "source": [
    "### 7. Group the columns 'MntWines', 'MntFruits', 'MntMeatProducts', 'MntFishProducts', 'MntSweetProducts', and 'MntGoldProds' as 'Total_Expenses'"
   ]
  },
  {
   "cell_type": "code",
   "execution_count": 9,
   "id": "3c3fa800",
   "metadata": {
    "id": "3c3fa800"
   },
   "outputs": [
    {
     "data": {
      "text/plain": [
       "0       1617\n",
       "1         27\n",
       "2        776\n",
       "3         53\n",
       "4        422\n",
       "        ... \n",
       "2235    1341\n",
       "2236     444\n",
       "2237    1241\n",
       "2238     843\n",
       "2239     172\n",
       "Name: Total_Expenses, Length: 2240, dtype: int64"
      ]
     },
     "execution_count": 9,
     "metadata": {},
     "output_type": "execute_result"
    }
   ],
   "source": [
    "## grouping all the required columns into a variable\n",
    "\n",
    "data_columns = pd.Series(data.columns)\n",
    "expense_group = data_columns[data_columns.str.contains('Mnt')].values.tolist()\n",
    "\n",
    "\n",
    "## computing sum of all grouped columns into a separate column \n",
    "\n",
    "data['Total_Expenses'] = data[expense_group].sum(axis=1)\n",
    "data['Total_Expenses']"
   ]
  },
  {
   "cell_type": "markdown",
   "id": "bf0cd083",
   "metadata": {
    "id": "bf0cd083"
   },
   "source": [
    "### 8. Group the columns 'NumWebPurchases', 'NumCatalogPurchases', 'NumStorePurchases', and 'NumDealsPurchases' as 'Num_Total_Purchases'"
   ]
  },
  {
   "cell_type": "code",
   "execution_count": 10,
   "id": "9c535ede",
   "metadata": {
    "id": "9c535ede"
   },
   "outputs": [
    {
     "data": {
      "text/plain": [
       "0       25\n",
       "1        6\n",
       "2       21\n",
       "3        8\n",
       "4       19\n",
       "        ..\n",
       "2235    18\n",
       "2236    22\n",
       "2237    19\n",
       "2238    23\n",
       "2239    11\n",
       "Name: Num_Total_Purchases, Length: 2240, dtype: int64"
      ]
     },
     "execution_count": 10,
     "metadata": {},
     "output_type": "execute_result"
    }
   ],
   "source": [
    "## grouping all the required columns into a variable\n",
    "\n",
    "purchase_group = data_columns[data_columns.str.contains('Purchases')].values.tolist()\n",
    "\n",
    "\n",
    "## computing sum of all grouped columns into a separate column \n",
    "\n",
    "data['Num_Total_Purchases'] = data[purchase_group].sum(axis=1)\n",
    "data['Num_Total_Purchases']"
   ]
  },
  {
   "cell_type": "markdown",
   "id": "52d2dca5",
   "metadata": {
    "id": "52d2dca5"
   },
   "source": [
    "### 9. Group the columns 'Kidhome' and 'Teenhome' as 'Kids'"
   ]
  },
  {
   "cell_type": "code",
   "execution_count": 11,
   "id": "f7c861a1",
   "metadata": {
    "id": "f7c861a1"
   },
   "outputs": [
    {
     "data": {
      "text/plain": [
       "0       0\n",
       "1       2\n",
       "2       0\n",
       "3       1\n",
       "4       1\n",
       "       ..\n",
       "2235    1\n",
       "2236    3\n",
       "2237    0\n",
       "2238    1\n",
       "2239    2\n",
       "Name: Kids, Length: 2240, dtype: int64"
      ]
     },
     "execution_count": 11,
     "metadata": {},
     "output_type": "execute_result"
    }
   ],
   "source": [
    "## grouping columns 'Kidhome' and 'Teenhome' as 'Kids'\n",
    "\n",
    "data['Kids'] = data['Kidhome'] + data['Teenhome']\n",
    "data['Kids']"
   ]
  },
  {
   "cell_type": "markdown",
   "id": "36f67474",
   "metadata": {
    "id": "36f67474"
   },
   "source": [
    "### 10. Group columns 'AcceptedCmp1 , 2 , 3 , 4, 5' and 'Response' as 'TotalAcceptedCmp'"
   ]
  },
  {
   "cell_type": "code",
   "execution_count": 12,
   "id": "ecc9109f",
   "metadata": {
    "id": "ecc9109f"
   },
   "outputs": [
    {
     "data": {
      "text/plain": [
       "0       1\n",
       "1       0\n",
       "2       0\n",
       "3       0\n",
       "4       0\n",
       "       ..\n",
       "2235    0\n",
       "2236    1\n",
       "2237    1\n",
       "2238    0\n",
       "2239    1\n",
       "Name: TotalAcceptedCmp, Length: 2240, dtype: int64"
      ]
     },
     "execution_count": 12,
     "metadata": {},
     "output_type": "execute_result"
    }
   ],
   "source": [
    "## grouping all the required columns into a variable\n",
    "\n",
    "accepted_group = data_columns[data_columns.str.contains('Accepted')].values.tolist()\n",
    "\n",
    "\n",
    "## computing sum of all grouped columns into a separate column \n",
    "\n",
    "data['TotalAcceptedCmp'] = data[accepted_group].sum(axis=1) + data['Response']\n",
    "data['TotalAcceptedCmp']"
   ]
  },
  {
   "cell_type": "markdown",
   "id": "886bfb08",
   "metadata": {
    "id": "886bfb08"
   },
   "source": [
    "### 11. Drop those columns which we have used above for obtaining new features"
   ]
  },
  {
   "cell_type": "code",
   "execution_count": 13,
   "id": "e853e663",
   "metadata": {
    "id": "e853e663"
   },
   "outputs": [
    {
     "data": {
      "text/html": [
       "<div>\n",
       "<style scoped>\n",
       "    .dataframe tbody tr th:only-of-type {\n",
       "        vertical-align: middle;\n",
       "    }\n",
       "\n",
       "    .dataframe tbody tr th {\n",
       "        vertical-align: top;\n",
       "    }\n",
       "\n",
       "    .dataframe thead th {\n",
       "        text-align: right;\n",
       "    }\n",
       "</style>\n",
       "<table border=\"1\" class=\"dataframe\">\n",
       "  <thead>\n",
       "    <tr style=\"text-align: right;\">\n",
       "      <th></th>\n",
       "      <th>Year_Birth</th>\n",
       "      <th>Education</th>\n",
       "      <th>Marital_Status</th>\n",
       "      <th>Income</th>\n",
       "      <th>Recency</th>\n",
       "      <th>NumWebVisitsMonth</th>\n",
       "      <th>Complain</th>\n",
       "      <th>Total_Expenses</th>\n",
       "      <th>Num_Total_Purchases</th>\n",
       "      <th>Kids</th>\n",
       "      <th>TotalAcceptedCmp</th>\n",
       "    </tr>\n",
       "  </thead>\n",
       "  <tbody>\n",
       "    <tr>\n",
       "      <th>0</th>\n",
       "      <td>1957</td>\n",
       "      <td>Graduation</td>\n",
       "      <td>Single</td>\n",
       "      <td>58138.0</td>\n",
       "      <td>58</td>\n",
       "      <td>7</td>\n",
       "      <td>0</td>\n",
       "      <td>1617</td>\n",
       "      <td>25</td>\n",
       "      <td>0</td>\n",
       "      <td>1</td>\n",
       "    </tr>\n",
       "    <tr>\n",
       "      <th>1</th>\n",
       "      <td>1954</td>\n",
       "      <td>Graduation</td>\n",
       "      <td>Single</td>\n",
       "      <td>46344.0</td>\n",
       "      <td>38</td>\n",
       "      <td>5</td>\n",
       "      <td>0</td>\n",
       "      <td>27</td>\n",
       "      <td>6</td>\n",
       "      <td>2</td>\n",
       "      <td>0</td>\n",
       "    </tr>\n",
       "    <tr>\n",
       "      <th>2</th>\n",
       "      <td>1965</td>\n",
       "      <td>Graduation</td>\n",
       "      <td>Relationship</td>\n",
       "      <td>71613.0</td>\n",
       "      <td>26</td>\n",
       "      <td>4</td>\n",
       "      <td>0</td>\n",
       "      <td>776</td>\n",
       "      <td>21</td>\n",
       "      <td>0</td>\n",
       "      <td>0</td>\n",
       "    </tr>\n",
       "    <tr>\n",
       "      <th>3</th>\n",
       "      <td>1984</td>\n",
       "      <td>Graduation</td>\n",
       "      <td>Relationship</td>\n",
       "      <td>26646.0</td>\n",
       "      <td>26</td>\n",
       "      <td>6</td>\n",
       "      <td>0</td>\n",
       "      <td>53</td>\n",
       "      <td>8</td>\n",
       "      <td>1</td>\n",
       "      <td>0</td>\n",
       "    </tr>\n",
       "    <tr>\n",
       "      <th>4</th>\n",
       "      <td>1981</td>\n",
       "      <td>PhD</td>\n",
       "      <td>Relationship</td>\n",
       "      <td>58293.0</td>\n",
       "      <td>94</td>\n",
       "      <td>5</td>\n",
       "      <td>0</td>\n",
       "      <td>422</td>\n",
       "      <td>19</td>\n",
       "      <td>1</td>\n",
       "      <td>0</td>\n",
       "    </tr>\n",
       "  </tbody>\n",
       "</table>\n",
       "</div>"
      ],
      "text/plain": [
       "   Year_Birth   Education Marital_Status   Income  Recency  NumWebVisitsMonth  \\\n",
       "0        1957  Graduation         Single  58138.0       58                  7   \n",
       "1        1954  Graduation         Single  46344.0       38                  5   \n",
       "2        1965  Graduation   Relationship  71613.0       26                  4   \n",
       "3        1984  Graduation   Relationship  26646.0       26                  6   \n",
       "4        1981         PhD   Relationship  58293.0       94                  5   \n",
       "\n",
       "   Complain  Total_Expenses  Num_Total_Purchases  Kids  TotalAcceptedCmp  \n",
       "0         0            1617                   25     0                 1  \n",
       "1         0              27                    6     2                 0  \n",
       "2         0             776                   21     0                 0  \n",
       "3         0              53                    8     1                 0  \n",
       "4         0             422                   19     1                 0  "
      ]
     },
     "execution_count": 13,
     "metadata": {},
     "output_type": "execute_result"
    }
   ],
   "source": [
    "## dropping the previously used columns\n",
    "\n",
    "data = data.drop(expense_group, axis=1)\n",
    "data = data.drop(purchase_group, axis=1)\n",
    "data = data.drop(accepted_group, axis=1)\n",
    "data = data.drop(['Kidhome', 'Teenhome', 'Response'], axis=1)\n",
    "\n",
    "data.head()"
   ]
  },
  {
   "cell_type": "markdown",
   "id": "4225ced7",
   "metadata": {
    "id": "4225ced7"
   },
   "source": [
    "### 12. Extract 'age' using the column 'Year_Birth' and then drop the column 'Year_birth'"
   ]
  },
  {
   "cell_type": "code",
   "execution_count": 14,
   "id": "d517611e",
   "metadata": {
    "id": "d517611e"
   },
   "outputs": [
    {
     "data": {
      "text/html": [
       "<div>\n",
       "<style scoped>\n",
       "    .dataframe tbody tr th:only-of-type {\n",
       "        vertical-align: middle;\n",
       "    }\n",
       "\n",
       "    .dataframe tbody tr th {\n",
       "        vertical-align: top;\n",
       "    }\n",
       "\n",
       "    .dataframe thead th {\n",
       "        text-align: right;\n",
       "    }\n",
       "</style>\n",
       "<table border=\"1\" class=\"dataframe\">\n",
       "  <thead>\n",
       "    <tr style=\"text-align: right;\">\n",
       "      <th></th>\n",
       "      <th>Education</th>\n",
       "      <th>Marital_Status</th>\n",
       "      <th>Income</th>\n",
       "      <th>Recency</th>\n",
       "      <th>NumWebVisitsMonth</th>\n",
       "      <th>Complain</th>\n",
       "      <th>Total_Expenses</th>\n",
       "      <th>Num_Total_Purchases</th>\n",
       "      <th>Kids</th>\n",
       "      <th>TotalAcceptedCmp</th>\n",
       "      <th>age</th>\n",
       "    </tr>\n",
       "  </thead>\n",
       "  <tbody>\n",
       "    <tr>\n",
       "      <th>0</th>\n",
       "      <td>Graduation</td>\n",
       "      <td>Single</td>\n",
       "      <td>58138.0</td>\n",
       "      <td>58</td>\n",
       "      <td>7</td>\n",
       "      <td>0</td>\n",
       "      <td>1617</td>\n",
       "      <td>25</td>\n",
       "      <td>0</td>\n",
       "      <td>1</td>\n",
       "      <td>66</td>\n",
       "    </tr>\n",
       "    <tr>\n",
       "      <th>1</th>\n",
       "      <td>Graduation</td>\n",
       "      <td>Single</td>\n",
       "      <td>46344.0</td>\n",
       "      <td>38</td>\n",
       "      <td>5</td>\n",
       "      <td>0</td>\n",
       "      <td>27</td>\n",
       "      <td>6</td>\n",
       "      <td>2</td>\n",
       "      <td>0</td>\n",
       "      <td>69</td>\n",
       "    </tr>\n",
       "    <tr>\n",
       "      <th>2</th>\n",
       "      <td>Graduation</td>\n",
       "      <td>Relationship</td>\n",
       "      <td>71613.0</td>\n",
       "      <td>26</td>\n",
       "      <td>4</td>\n",
       "      <td>0</td>\n",
       "      <td>776</td>\n",
       "      <td>21</td>\n",
       "      <td>0</td>\n",
       "      <td>0</td>\n",
       "      <td>58</td>\n",
       "    </tr>\n",
       "    <tr>\n",
       "      <th>3</th>\n",
       "      <td>Graduation</td>\n",
       "      <td>Relationship</td>\n",
       "      <td>26646.0</td>\n",
       "      <td>26</td>\n",
       "      <td>6</td>\n",
       "      <td>0</td>\n",
       "      <td>53</td>\n",
       "      <td>8</td>\n",
       "      <td>1</td>\n",
       "      <td>0</td>\n",
       "      <td>39</td>\n",
       "    </tr>\n",
       "    <tr>\n",
       "      <th>4</th>\n",
       "      <td>PhD</td>\n",
       "      <td>Relationship</td>\n",
       "      <td>58293.0</td>\n",
       "      <td>94</td>\n",
       "      <td>5</td>\n",
       "      <td>0</td>\n",
       "      <td>422</td>\n",
       "      <td>19</td>\n",
       "      <td>1</td>\n",
       "      <td>0</td>\n",
       "      <td>42</td>\n",
       "    </tr>\n",
       "  </tbody>\n",
       "</table>\n",
       "</div>"
      ],
      "text/plain": [
       "    Education Marital_Status   Income  Recency  NumWebVisitsMonth  Complain  \\\n",
       "0  Graduation         Single  58138.0       58                  7         0   \n",
       "1  Graduation         Single  46344.0       38                  5         0   \n",
       "2  Graduation   Relationship  71613.0       26                  4         0   \n",
       "3  Graduation   Relationship  26646.0       26                  6         0   \n",
       "4         PhD   Relationship  58293.0       94                  5         0   \n",
       "\n",
       "   Total_Expenses  Num_Total_Purchases  Kids  TotalAcceptedCmp  age  \n",
       "0            1617                   25     0                 1   66  \n",
       "1              27                    6     2                 0   69  \n",
       "2             776                   21     0                 0   58  \n",
       "3              53                    8     1                 0   39  \n",
       "4             422                   19     1                 0   42  "
      ]
     },
     "execution_count": 14,
     "metadata": {},
     "output_type": "execute_result"
    }
   ],
   "source": [
    "## Calculating age using 'Year_Birth' :: current-year - birth-year and Dropping the 'Year_Birth' column\n",
    "\n",
    "import datetime\n",
    "\n",
    "data['age'] = datetime.datetime.today().year - data['Year_Birth']\n",
    "data = data.drop('Year_Birth', axis=1)\n",
    "\n",
    "data.head()"
   ]
  },
  {
   "cell_type": "markdown",
   "id": "f2d3c92d",
   "metadata": {
    "id": "f2d3c92d"
   },
   "source": [
    "### 13. Encode the categorical variables in the dataset"
   ]
  },
  {
   "cell_type": "code",
   "execution_count": 15,
   "id": "030cfc32",
   "metadata": {
    "id": "030cfc32"
   },
   "outputs": [
    {
     "data": {
      "text/html": [
       "<div>\n",
       "<style scoped>\n",
       "    .dataframe tbody tr th:only-of-type {\n",
       "        vertical-align: middle;\n",
       "    }\n",
       "\n",
       "    .dataframe tbody tr th {\n",
       "        vertical-align: top;\n",
       "    }\n",
       "\n",
       "    .dataframe thead th {\n",
       "        text-align: right;\n",
       "    }\n",
       "</style>\n",
       "<table border=\"1\" class=\"dataframe\">\n",
       "  <thead>\n",
       "    <tr style=\"text-align: right;\">\n",
       "      <th></th>\n",
       "      <th>Education</th>\n",
       "      <th>Marital_Status</th>\n",
       "      <th>Income</th>\n",
       "      <th>Recency</th>\n",
       "      <th>NumWebVisitsMonth</th>\n",
       "      <th>Complain</th>\n",
       "      <th>Total_Expenses</th>\n",
       "      <th>Num_Total_Purchases</th>\n",
       "      <th>Kids</th>\n",
       "      <th>TotalAcceptedCmp</th>\n",
       "      <th>age</th>\n",
       "    </tr>\n",
       "  </thead>\n",
       "  <tbody>\n",
       "    <tr>\n",
       "      <th>0</th>\n",
       "      <td>2</td>\n",
       "      <td>1</td>\n",
       "      <td>58138.0</td>\n",
       "      <td>58</td>\n",
       "      <td>7</td>\n",
       "      <td>0</td>\n",
       "      <td>1617</td>\n",
       "      <td>25</td>\n",
       "      <td>0</td>\n",
       "      <td>1</td>\n",
       "      <td>66</td>\n",
       "    </tr>\n",
       "    <tr>\n",
       "      <th>1</th>\n",
       "      <td>2</td>\n",
       "      <td>1</td>\n",
       "      <td>46344.0</td>\n",
       "      <td>38</td>\n",
       "      <td>5</td>\n",
       "      <td>0</td>\n",
       "      <td>27</td>\n",
       "      <td>6</td>\n",
       "      <td>2</td>\n",
       "      <td>0</td>\n",
       "      <td>69</td>\n",
       "    </tr>\n",
       "    <tr>\n",
       "      <th>2</th>\n",
       "      <td>2</td>\n",
       "      <td>0</td>\n",
       "      <td>71613.0</td>\n",
       "      <td>26</td>\n",
       "      <td>4</td>\n",
       "      <td>0</td>\n",
       "      <td>776</td>\n",
       "      <td>21</td>\n",
       "      <td>0</td>\n",
       "      <td>0</td>\n",
       "      <td>58</td>\n",
       "    </tr>\n",
       "    <tr>\n",
       "      <th>3</th>\n",
       "      <td>2</td>\n",
       "      <td>0</td>\n",
       "      <td>26646.0</td>\n",
       "      <td>26</td>\n",
       "      <td>6</td>\n",
       "      <td>0</td>\n",
       "      <td>53</td>\n",
       "      <td>8</td>\n",
       "      <td>1</td>\n",
       "      <td>0</td>\n",
       "      <td>39</td>\n",
       "    </tr>\n",
       "    <tr>\n",
       "      <th>4</th>\n",
       "      <td>4</td>\n",
       "      <td>0</td>\n",
       "      <td>58293.0</td>\n",
       "      <td>94</td>\n",
       "      <td>5</td>\n",
       "      <td>0</td>\n",
       "      <td>422</td>\n",
       "      <td>19</td>\n",
       "      <td>1</td>\n",
       "      <td>0</td>\n",
       "      <td>42</td>\n",
       "    </tr>\n",
       "  </tbody>\n",
       "</table>\n",
       "</div>"
      ],
      "text/plain": [
       "   Education  Marital_Status   Income  Recency  NumWebVisitsMonth  Complain  \\\n",
       "0          2               1  58138.0       58                  7         0   \n",
       "1          2               1  46344.0       38                  5         0   \n",
       "2          2               0  71613.0       26                  4         0   \n",
       "3          2               0  26646.0       26                  6         0   \n",
       "4          4               0  58293.0       94                  5         0   \n",
       "\n",
       "   Total_Expenses  Num_Total_Purchases  Kids  TotalAcceptedCmp  age  \n",
       "0            1617                   25     0                 1   66  \n",
       "1              27                    6     2                 0   69  \n",
       "2             776                   21     0                 0   58  \n",
       "3              53                    8     1                 0   39  \n",
       "4             422                   19     1                 0   42  "
      ]
     },
     "execution_count": 15,
     "metadata": {},
     "output_type": "execute_result"
    }
   ],
   "source": [
    "## get all columns with type 'Object'\n",
    "\n",
    "categorical_columns = data.select_dtypes('object')\n",
    "\n",
    "\n",
    "## perform label encoding for selected columns\n",
    "\n",
    "lbl_encoder = LabelEncoder()\n",
    "for i in categorical_columns:\n",
    "    data[i] = data[[i]].apply(lbl_encoder.fit_transform)\n",
    "    \n",
    "data.head()"
   ]
  },
  {
   "cell_type": "markdown",
   "id": "9242e36d",
   "metadata": {
    "id": "9242e36d"
   },
   "source": [
    "### 14. Standardize the columns, so that values are in a particular range"
   ]
  },
  {
   "cell_type": "code",
   "execution_count": 16,
   "id": "72475b68",
   "metadata": {
    "id": "72475b68"
   },
   "outputs": [
    {
     "data": {
      "text/html": [
       "<div>\n",
       "<style scoped>\n",
       "    .dataframe tbody tr th:only-of-type {\n",
       "        vertical-align: middle;\n",
       "    }\n",
       "\n",
       "    .dataframe tbody tr th {\n",
       "        vertical-align: top;\n",
       "    }\n",
       "\n",
       "    .dataframe thead th {\n",
       "        text-align: right;\n",
       "    }\n",
       "</style>\n",
       "<table border=\"1\" class=\"dataframe\">\n",
       "  <thead>\n",
       "    <tr style=\"text-align: right;\">\n",
       "      <th></th>\n",
       "      <th>Education</th>\n",
       "      <th>Marital_Status</th>\n",
       "      <th>Income</th>\n",
       "      <th>Recency</th>\n",
       "      <th>NumWebVisitsMonth</th>\n",
       "      <th>Complain</th>\n",
       "      <th>Total_Expenses</th>\n",
       "      <th>Num_Total_Purchases</th>\n",
       "      <th>Kids</th>\n",
       "      <th>TotalAcceptedCmp</th>\n",
       "      <th>age</th>\n",
       "    </tr>\n",
       "  </thead>\n",
       "  <tbody>\n",
       "    <tr>\n",
       "      <th>0</th>\n",
       "      <td>-0.350141</td>\n",
       "      <td>1.346874</td>\n",
       "      <td>0.251939</td>\n",
       "      <td>0.307039</td>\n",
       "      <td>0.693904</td>\n",
       "      <td>-0.097282</td>\n",
       "      <td>1.679417</td>\n",
       "      <td>1.320826</td>\n",
       "      <td>-1.264505</td>\n",
       "      <td>0.621248</td>\n",
       "      <td>0.985345</td>\n",
       "    </tr>\n",
       "    <tr>\n",
       "      <th>1</th>\n",
       "      <td>-0.350141</td>\n",
       "      <td>1.346874</td>\n",
       "      <td>-0.208699</td>\n",
       "      <td>-0.383664</td>\n",
       "      <td>-0.130463</td>\n",
       "      <td>-0.097282</td>\n",
       "      <td>-0.961275</td>\n",
       "      <td>-1.154596</td>\n",
       "      <td>1.396361</td>\n",
       "      <td>-0.501912</td>\n",
       "      <td>1.235733</td>\n",
       "    </tr>\n",
       "    <tr>\n",
       "      <th>2</th>\n",
       "      <td>-0.350141</td>\n",
       "      <td>-0.742460</td>\n",
       "      <td>0.778231</td>\n",
       "      <td>-0.798086</td>\n",
       "      <td>-0.542647</td>\n",
       "      <td>-0.097282</td>\n",
       "      <td>0.282673</td>\n",
       "      <td>0.799685</td>\n",
       "      <td>-1.264505</td>\n",
       "      <td>-0.501912</td>\n",
       "      <td>0.317643</td>\n",
       "    </tr>\n",
       "    <tr>\n",
       "      <th>3</th>\n",
       "      <td>-0.350141</td>\n",
       "      <td>-0.742460</td>\n",
       "      <td>-0.978043</td>\n",
       "      <td>-0.798086</td>\n",
       "      <td>0.281720</td>\n",
       "      <td>-0.097282</td>\n",
       "      <td>-0.918094</td>\n",
       "      <td>-0.894025</td>\n",
       "      <td>0.065928</td>\n",
       "      <td>-0.501912</td>\n",
       "      <td>-1.268149</td>\n",
       "    </tr>\n",
       "    <tr>\n",
       "      <th>4</th>\n",
       "      <td>1.428354</td>\n",
       "      <td>-0.742460</td>\n",
       "      <td>0.257992</td>\n",
       "      <td>1.550305</td>\n",
       "      <td>-0.130463</td>\n",
       "      <td>-0.097282</td>\n",
       "      <td>-0.305254</td>\n",
       "      <td>0.539114</td>\n",
       "      <td>0.065928</td>\n",
       "      <td>-0.501912</td>\n",
       "      <td>-1.017761</td>\n",
       "    </tr>\n",
       "  </tbody>\n",
       "</table>\n",
       "</div>"
      ],
      "text/plain": [
       "   Education  Marital_Status    Income   Recency  NumWebVisitsMonth  Complain  \\\n",
       "0  -0.350141        1.346874  0.251939  0.307039           0.693904 -0.097282   \n",
       "1  -0.350141        1.346874 -0.208699 -0.383664          -0.130463 -0.097282   \n",
       "2  -0.350141       -0.742460  0.778231 -0.798086          -0.542647 -0.097282   \n",
       "3  -0.350141       -0.742460 -0.978043 -0.798086           0.281720 -0.097282   \n",
       "4   1.428354       -0.742460  0.257992  1.550305          -0.130463 -0.097282   \n",
       "\n",
       "   Total_Expenses  Num_Total_Purchases      Kids  TotalAcceptedCmp       age  \n",
       "0        1.679417             1.320826 -1.264505          0.621248  0.985345  \n",
       "1       -0.961275            -1.154596  1.396361         -0.501912  1.235733  \n",
       "2        0.282673             0.799685 -1.264505         -0.501912  0.317643  \n",
       "3       -0.918094            -0.894025  0.065928         -0.501912 -1.268149  \n",
       "4       -0.305254             0.539114  0.065928         -0.501912 -1.017761  "
      ]
     },
     "execution_count": 16,
     "metadata": {},
     "output_type": "execute_result"
    }
   ],
   "source": [
    "## Standardizing the columns\n",
    "\n",
    "data_df = data.copy()\n",
    "scaled_features = StandardScaler().fit_transform(data_df.values)\n",
    "scaled_features_df = pd.DataFrame(scaled_features, index = data_df.index, columns = data_df.columns)\n",
    "\n",
    "scaled_features_df.head()"
   ]
  },
  {
   "cell_type": "markdown",
   "id": "d063d2e2",
   "metadata": {
    "id": "d063d2e2"
   },
   "source": [
    "### 15. Apply PCA on the above dataset and determine the number of PCA components to be used so that 90-95% of the variance in data is explained by the same."
   ]
  },
  {
   "cell_type": "code",
   "execution_count": 17,
   "id": "6df3c70e",
   "metadata": {
    "id": "6df3c70e"
   },
   "outputs": [
    {
     "data": {
      "text/plain": [
       "array([[ 1.00044663,  0.01375403,  0.11771325, -0.01173369, -0.04029882,\n",
       "        -0.05056252,  0.09209518,  0.09405439,  0.05321304,  0.06327892,\n",
       "         0.17146685],\n",
       "       [ 0.01375403,  1.00044663, -0.00733686,  0.00450972, -0.00344176,\n",
       "         0.00520466,  0.01775232, -0.00671037, -0.03917598,  0.06004206,\n",
       "         0.0042384 ],\n",
       "       [ 0.11771325, -0.00733686,  1.00044663, -0.01060766, -0.53569091,\n",
       "        -0.02449955,  0.65444582,  0.55599284, -0.29306798,  0.2845784 ,\n",
       "         0.15496032],\n",
       "       [-0.01173369,  0.00450972, -0.01060766,  1.00044663, -0.02145427,\n",
       "         0.01323699,  0.02044173,  0.00574294,  0.01806145, -0.08900203,\n",
       "         0.01987996],\n",
       "       [-0.04029882, -0.00344176, -0.53569091, -0.02145427,  1.00044663,\n",
       "         0.01977734, -0.50044131, -0.31242795,  0.41860616, -0.12836726,\n",
       "        -0.12119336],\n",
       "       [-0.05056252,  0.00520466, -0.02449955,  0.01323699,  0.01977734,\n",
       "         1.00044663, -0.03707503, -0.02059185,  0.03108014, -0.01761676,\n",
       "         0.030141  ],\n",
       "       [ 0.09209518,  0.01775232,  0.65444582,  0.02044173, -0.50044131,\n",
       "        -0.03707503,  1.00044663,  0.75423984, -0.49911047,  0.4564099 ,\n",
       "         0.11135611],\n",
       "       [ 0.09405439, -0.00671037,  0.55599284,  0.00574294, -0.31242795,\n",
       "        -0.02059185,  0.75423984,  1.00044663, -0.24589955,  0.25816052,\n",
       "         0.16837908],\n",
       "       [ 0.05321304, -0.03917598, -0.29306798,  0.01806145,  0.41860616,\n",
       "         0.03108014, -0.49911047, -0.24589955,  1.00044663, -0.25387372,\n",
       "         0.09023955],\n",
       "       [ 0.06327892,  0.06004206,  0.2845784 , -0.08900203, -0.12836726,\n",
       "        -0.01761676,  0.4564099 ,  0.25816052, -0.25387372,  1.00044663,\n",
       "        -0.00830618],\n",
       "       [ 0.17146685,  0.0042384 ,  0.15496032,  0.01987996, -0.12119336,\n",
       "         0.030141  ,  0.11135611,  0.16837908,  0.09023955, -0.00830618,\n",
       "         1.00044663]])"
      ]
     },
     "execution_count": 17,
     "metadata": {},
     "output_type": "execute_result"
    }
   ],
   "source": [
    "## step 1: Calculate the covariance matrix\n",
    "\n",
    "cov_matrix = np.cov(scaled_features.T)\n",
    "cov_matrix"
   ]
  },
  {
   "cell_type": "code",
   "execution_count": 18,
   "id": "e3648393",
   "metadata": {},
   "outputs": [
    {
     "name": "stdout",
     "output_type": "stream",
     "text": [
      "Eigen values:  [3.17678038 0.15957653 0.3509169  1.2562387  0.57214283 0.70145888\n",
      " 0.814775   0.88247068 1.07494142 0.99866395 1.01694764]\n",
      "\n",
      "\n",
      "Eigen vectors:  [[-8.08913337e-02  1.34287922e-02 -2.27212237e-02 -5.54236274e-01\n",
      "   9.51813937e-02 -1.08341857e-01 -6.91408675e-01 -2.11423549e-01\n",
      "   3.49567300e-01  1.35359526e-01  3.89785998e-02]\n",
      " [-1.62311720e-02 -3.60121146e-04  5.09081939e-03  7.23444227e-02\n",
      "  -1.24944958e-02 -1.62614604e-01  9.76593368e-02  2.48984480e-01\n",
      "   2.95109122e-01  5.05863030e-01 -7.43881542e-01]\n",
      " [-4.50500542e-01  9.58352697e-02  7.30288996e-01 -1.07170539e-01\n",
      "  -4.11229260e-01 -2.41505501e-01  3.31338840e-02  8.14884584e-02\n",
      "  -6.71499700e-02 -4.10046692e-02  4.11604803e-02]\n",
      " [ 6.34322824e-03  3.79939344e-02  2.63897298e-02 -1.09427013e-01\n",
      "  -5.40497224e-02  1.34582050e-01 -2.73798784e-02 -4.73971963e-01\n",
      "  -6.57673396e-01  5.46500663e-01 -9.06393136e-02]\n",
      " [ 3.77964089e-01 -1.07667683e-01  5.23555778e-01 -3.97586639e-02\n",
      "   4.45474943e-01 -8.76404494e-02  2.93610001e-01 -4.58445204e-01\n",
      "   2.46695441e-01 -5.95249079e-02 -5.43134088e-02]\n",
      " [ 2.87273625e-02 -6.45342534e-03 -4.97157271e-04 -2.18527327e-02\n",
      "   1.60242162e-02 -6.43757585e-02 -2.60736397e-01 -1.37481817e-01\n",
      "  -3.36972524e-01 -6.29236001e-01 -6.30778204e-01]\n",
      " [-5.14644873e-01 -8.06235285e-01 -1.30057423e-01  3.45888605e-02\n",
      "   1.70836820e-01 -9.24259790e-02  9.90403881e-02 -1.39285714e-01\n",
      "  -2.52795759e-03 -5.09724403e-03 -6.65852629e-03]\n",
      " [-4.29780830e-01  5.09940909e-01 -2.94819014e-01 -1.40954862e-01\n",
      "   3.57651619e-01 -4.25821279e-01  3.25321998e-01 -1.68695459e-01\n",
      "  -2.63537109e-02 -6.38011484e-02  1.28870471e-02]\n",
      " [ 3.27214799e-01 -1.89103117e-01 -2.68512260e-01 -4.19097190e-01\n",
      "  -5.63113726e-01 -3.64542090e-01  3.47849967e-01 -1.67146712e-01\n",
      "   6.06190641e-02 -8.25866948e-02 -2.88760859e-03]\n",
      " [-2.81176341e-01  1.77890597e-01 -1.06719089e-01  1.76977651e-01\n",
      "  -3.44336343e-01  4.98593738e-01  1.12871737e-01 -5.17437793e-01\n",
      "   4.12724422e-01 -9.49865098e-02 -1.39913297e-01]\n",
      " [-1.04016758e-01 -9.87445175e-03  6.33049169e-02 -6.58818748e-01\n",
      "   1.65179681e-01  5.49730148e-01  3.27102209e-01  2.99007031e-01\n",
      "  -6.74072990e-02 -7.75584175e-02 -1.20771185e-01]]\n"
     ]
    }
   ],
   "source": [
    "## step 2: Calculate eigen values and eigen vectors\n",
    "\n",
    "eig_values, eig_vectors = np.linalg.eig(cov_matrix)\n",
    "print('Eigen values: ', eig_values)\n",
    "print('\\n')\n",
    "print('Eigen vectors: ',eig_vectors)"
   ]
  },
  {
   "cell_type": "code",
   "execution_count": 19,
   "id": "828a5470",
   "metadata": {},
   "outputs": [
    {
     "name": "stdout",
     "output_type": "stream",
     "text": [
      "Explained Variance:  [28.866928817078996, 11.415253415176117, 9.767832156879745, 9.240851320556228, 9.074710198868914, 8.018879299474854, 7.4037387414600575, 6.374052120386398, 5.1989764034588415, 3.188729465981809, 1.4500480606780255]\n",
      "\n",
      "\n",
      "Cummulative Variance Explained:  [ 28.86692882  40.28218223  50.05001439  59.29086571  68.36557591\n",
      "  76.38445521  83.78819395  90.16224607  95.36122247  98.54995194\n",
      " 100.        ]\n"
     ]
    }
   ],
   "source": [
    "## step 3: Scree plot\n",
    "\n",
    "total = sum(eig_values)\n",
    "var_exp = [(i/total)*100 for i in sorted(eig_values, reverse=True)]\n",
    "cum_var_exp = np.cumsum(var_exp)\n",
    "\n",
    "print('Explained Variance: ', var_exp)\n",
    "print('\\n')\n",
    "print('Cummulative Variance Explained: ', cum_var_exp)"
   ]
  },
  {
   "cell_type": "code",
   "execution_count": 20,
   "id": "4a58a9dc",
   "metadata": {},
   "outputs": [
    {
     "data": {
      "image/png": "[encoded data removed]",
      "text/plain": [
       "<Figure size 640x480 with 1 Axes>"
      ]
     },
     "metadata": {},
     "output_type": "display_data"
    }
   ],
   "source": [
    "## Scree plot\n",
    "\n",
    "plt.bar(range(11), var_exp, align='center', color='lightgreen', edgecolor='black', label='Explained Variance')\n",
    "plt.step(range(11), cum_var_exp, where='mid', color='red', label='Cummulative Explained Variance')\n",
    "plt.xlabel('Principal Components')\n",
    "plt.ylabel('Explained Variance Ratio')\n",
    "plt.title('Scree plot')\n",
    "plt.legend(loc='best')\n",
    "plt.show()"
   ]
  },
  {
   "cell_type": "markdown",
   "id": "f4861a97",
   "metadata": {},
   "source": [
    "- It is observed from the above Scree plot, that first 8 principal components are explaining about 90-95% of the variation.\n",
    "- Hence, the optimal number of principal componets is chosen as 8"
   ]
  },
  {
   "cell_type": "markdown",
   "id": "b2df19d7",
   "metadata": {
    "id": "b2df19d7"
   },
   "source": [
    "### 16. Apply K-means clustering and segment the data (Use PCA transformed data for clustering)"
   ]
  },
  {
   "cell_type": "code",
   "execution_count": 21,
   "id": "a3a8bb4c",
   "metadata": {
    "id": "a3a8bb4c"
   },
   "outputs": [
    {
     "data": {
      "text/html": [
       "<div>\n",
       "<style scoped>\n",
       "    .dataframe tbody tr th:only-of-type {\n",
       "        vertical-align: middle;\n",
       "    }\n",
       "\n",
       "    .dataframe tbody tr th {\n",
       "        vertical-align: top;\n",
       "    }\n",
       "\n",
       "    .dataframe thead th {\n",
       "        text-align: right;\n",
       "    }\n",
       "</style>\n",
       "<table border=\"1\" class=\"dataframe\">\n",
       "  <thead>\n",
       "    <tr style=\"text-align: right;\">\n",
       "      <th></th>\n",
       "      <th>PC1</th>\n",
       "      <th>PC2</th>\n",
       "      <th>PC3</th>\n",
       "      <th>PC4</th>\n",
       "      <th>PC5</th>\n",
       "      <th>PC6</th>\n",
       "      <th>PC7</th>\n",
       "      <th>PC8</th>\n",
       "    </tr>\n",
       "  </thead>\n",
       "  <tbody>\n",
       "    <tr>\n",
       "      <th>0</th>\n",
       "      <td>1.968519</td>\n",
       "      <td>-0.068085</td>\n",
       "      <td>-0.334469</td>\n",
       "      <td>1.205780</td>\n",
       "      <td>-0.687483</td>\n",
       "      <td>-0.292572</td>\n",
       "      <td>-1.151264</td>\n",
       "      <td>-0.339571</td>\n",
       "    </tr>\n",
       "    <tr>\n",
       "      <th>1</th>\n",
       "      <td>-1.506380</td>\n",
       "      <td>0.995503</td>\n",
       "      <td>-0.369068</td>\n",
       "      <td>1.012456</td>\n",
       "      <td>-0.416880</td>\n",
       "      <td>1.371874</td>\n",
       "      <td>-0.726737</td>\n",
       "      <td>-0.335913</td>\n",
       "    </tr>\n",
       "    <tr>\n",
       "      <th>2</th>\n",
       "      <td>1.318022</td>\n",
       "      <td>-0.296890</td>\n",
       "      <td>0.296975</td>\n",
       "      <td>-0.777798</td>\n",
       "      <td>0.722521</td>\n",
       "      <td>0.984771</td>\n",
       "      <td>0.021199</td>\n",
       "      <td>0.064181</td>\n",
       "    </tr>\n",
       "    <tr>\n",
       "      <th>3</th>\n",
       "      <td>-1.730941</td>\n",
       "      <td>-1.136707</td>\n",
       "      <td>-0.259541</td>\n",
       "      <td>-0.834579</td>\n",
       "      <td>0.572279</td>\n",
       "      <td>0.220158</td>\n",
       "      <td>0.563199</td>\n",
       "      <td>0.236836</td>\n",
       "    </tr>\n",
       "    <tr>\n",
       "      <th>4</th>\n",
       "      <td>0.068028</td>\n",
       "      <td>0.567827</td>\n",
       "      <td>0.904110</td>\n",
       "      <td>-0.748457</td>\n",
       "      <td>-0.811727</td>\n",
       "      <td>-1.231499</td>\n",
       "      <td>1.328402</td>\n",
       "      <td>0.905113</td>\n",
       "    </tr>\n",
       "  </tbody>\n",
       "</table>\n",
       "</div>"
      ],
      "text/plain": [
       "        PC1       PC2       PC3       PC4       PC5       PC6       PC7  \\\n",
       "0  1.968519 -0.068085 -0.334469  1.205780 -0.687483 -0.292572 -1.151264   \n",
       "1 -1.506380  0.995503 -0.369068  1.012456 -0.416880  1.371874 -0.726737   \n",
       "2  1.318022 -0.296890  0.296975 -0.777798  0.722521  0.984771  0.021199   \n",
       "3 -1.730941 -1.136707 -0.259541 -0.834579  0.572279  0.220158  0.563199   \n",
       "4  0.068028  0.567827  0.904110 -0.748457 -0.811727 -1.231499  1.328402   \n",
       "\n",
       "        PC8  \n",
       "0 -0.339571  \n",
       "1 -0.335913  \n",
       "2  0.064181  \n",
       "3  0.236836  \n",
       "4  0.905113  "
      ]
     },
     "execution_count": 21,
     "metadata": {},
     "output_type": "execute_result"
    }
   ],
   "source": [
    "## Using dimensions obtained from PCA to apply clustering (i.e., 8)\n",
    "\n",
    "pca = PCA(n_components = 8)\n",
    "\n",
    "pca_df = pd.DataFrame(pca.fit_transform(scaled_features_df), columns=['PC1','PC2','PC3','PC4','PC5','PC6','PC7','PC8'])\n",
    "pca_df.head()"
   ]
  },
  {
   "cell_type": "code",
   "execution_count": 22,
   "id": "7dfc5376",
   "metadata": {},
   "outputs": [],
   "source": [
    "## Finding optimal K value by KMeans clustering using Elbow plot\n",
    "\n",
    "cluster_errors = []\n",
    "cluster_range = range(2,15)\n",
    "\n",
    "for num_cluster in cluster_range:\n",
    "    clusters = KMeans(num_cluster, random_state=100)\n",
    "    clusters.fit(pca_df)\n",
    "    cluster_errors.append(clusters.inertia_)\n"
   ]
  },
  {
   "cell_type": "code",
   "execution_count": 23,
   "id": "684ea64b",
   "metadata": {},
   "outputs": [
    {
     "data": {
      "image/png": "[encoded data removed]",
      "text/plain": [
       "<Figure size 1500x500 with 1 Axes>"
      ]
     },
     "metadata": {},
     "output_type": "display_data"
    }
   ],
   "source": [
    "## creatinf a dataframe of number of clusters and cluster errors\n",
    "\n",
    "cluster_df = pd.DataFrame({'num_cluster': cluster_range, 'cluster_errors': cluster_errors})\n",
    "\n",
    "\n",
    "## Elbow plot\n",
    "plt.figure(figsize=[15,5])\n",
    "plt.plot(cluster_df['num_cluster'], cluster_df['cluster_errors'], marker='o', color='b')\n",
    "plt.show()"
   ]
  },
  {
   "cell_type": "markdown",
   "id": "200c02ca",
   "metadata": {},
   "source": [
    "- From the above Elbow plot, it is observed that at cluster K=3, the inertia descreases significantly\n",
    "- Hence we are selecting the optimal cluster value as K=3"
   ]
  },
  {
   "cell_type": "code",
   "execution_count": 24,
   "id": "83455fcf",
   "metadata": {},
   "outputs": [
    {
     "data": {
      "text/plain": [
       "KMeans(n_clusters=3, random_state=100)"
      ]
     },
     "execution_count": 24,
     "metadata": {},
     "output_type": "execute_result"
    }
   ],
   "source": [
    "## Applying KMeans clustering for optimal number of cluster obtained (K=3)\n",
    "\n",
    "kmeans = KMeans(n_clusters=3, random_state=100)\n",
    "kmeans.fit(pca_df)"
   ]
  },
  {
   "cell_type": "code",
   "execution_count": 25,
   "id": "ea43d519",
   "metadata": {},
   "outputs": [
    {
     "data": {
      "text/html": [
       "<div>\n",
       "<style scoped>\n",
       "    .dataframe tbody tr th:only-of-type {\n",
       "        vertical-align: middle;\n",
       "    }\n",
       "\n",
       "    .dataframe tbody tr th {\n",
       "        vertical-align: top;\n",
       "    }\n",
       "\n",
       "    .dataframe thead th {\n",
       "        text-align: right;\n",
       "    }\n",
       "</style>\n",
       "<table border=\"1\" class=\"dataframe\">\n",
       "  <thead>\n",
       "    <tr style=\"text-align: right;\">\n",
       "      <th></th>\n",
       "      <th>PC1</th>\n",
       "      <th>PC2</th>\n",
       "      <th>PC3</th>\n",
       "      <th>PC4</th>\n",
       "      <th>PC5</th>\n",
       "      <th>PC6</th>\n",
       "      <th>PC7</th>\n",
       "      <th>PC8</th>\n",
       "      <th>Label</th>\n",
       "    </tr>\n",
       "  </thead>\n",
       "  <tbody>\n",
       "    <tr>\n",
       "      <th>0</th>\n",
       "      <td>1.968519</td>\n",
       "      <td>-0.068085</td>\n",
       "      <td>-0.334469</td>\n",
       "      <td>1.205780</td>\n",
       "      <td>-0.687483</td>\n",
       "      <td>-0.292572</td>\n",
       "      <td>-1.151264</td>\n",
       "      <td>-0.339571</td>\n",
       "      <td>2</td>\n",
       "    </tr>\n",
       "    <tr>\n",
       "      <th>1</th>\n",
       "      <td>-1.506380</td>\n",
       "      <td>0.995503</td>\n",
       "      <td>-0.369068</td>\n",
       "      <td>1.012456</td>\n",
       "      <td>-0.416880</td>\n",
       "      <td>1.371874</td>\n",
       "      <td>-0.726737</td>\n",
       "      <td>-0.335913</td>\n",
       "      <td>1</td>\n",
       "    </tr>\n",
       "    <tr>\n",
       "      <th>2</th>\n",
       "      <td>1.318022</td>\n",
       "      <td>-0.296890</td>\n",
       "      <td>0.296975</td>\n",
       "      <td>-0.777798</td>\n",
       "      <td>0.722521</td>\n",
       "      <td>0.984771</td>\n",
       "      <td>0.021199</td>\n",
       "      <td>0.064181</td>\n",
       "      <td>2</td>\n",
       "    </tr>\n",
       "    <tr>\n",
       "      <th>3</th>\n",
       "      <td>-1.730941</td>\n",
       "      <td>-1.136707</td>\n",
       "      <td>-0.259541</td>\n",
       "      <td>-0.834579</td>\n",
       "      <td>0.572279</td>\n",
       "      <td>0.220158</td>\n",
       "      <td>0.563199</td>\n",
       "      <td>0.236836</td>\n",
       "      <td>1</td>\n",
       "    </tr>\n",
       "    <tr>\n",
       "      <th>4</th>\n",
       "      <td>0.068028</td>\n",
       "      <td>0.567827</td>\n",
       "      <td>0.904110</td>\n",
       "      <td>-0.748457</td>\n",
       "      <td>-0.811727</td>\n",
       "      <td>-1.231499</td>\n",
       "      <td>1.328402</td>\n",
       "      <td>0.905113</td>\n",
       "      <td>0</td>\n",
       "    </tr>\n",
       "  </tbody>\n",
       "</table>\n",
       "</div>"
      ],
      "text/plain": [
       "        PC1       PC2       PC3       PC4       PC5       PC6       PC7  \\\n",
       "0  1.968519 -0.068085 -0.334469  1.205780 -0.687483 -0.292572 -1.151264   \n",
       "1 -1.506380  0.995503 -0.369068  1.012456 -0.416880  1.371874 -0.726737   \n",
       "2  1.318022 -0.296890  0.296975 -0.777798  0.722521  0.984771  0.021199   \n",
       "3 -1.730941 -1.136707 -0.259541 -0.834579  0.572279  0.220158  0.563199   \n",
       "4  0.068028  0.567827  0.904110 -0.748457 -0.811727 -1.231499  1.328402   \n",
       "\n",
       "        PC8  Label  \n",
       "0 -0.339571      2  \n",
       "1 -0.335913      1  \n",
       "2  0.064181      2  \n",
       "3  0.236836      1  \n",
       "4  0.905113      0  "
      ]
     },
     "execution_count": 25,
     "metadata": {},
     "output_type": "execute_result"
    }
   ],
   "source": [
    "## creating a dataframe of labels\n",
    "\n",
    "label = pd.DataFrame(kmeans.labels_, columns=['Label'])\n",
    "\n",
    "\n",
    "## joining the label dataframe to the pca_df dataframe\n",
    "\n",
    "kmeans_df = pca_df.join(label)\n",
    "kmeans_df.head()"
   ]
  },
  {
   "cell_type": "code",
   "execution_count": 26,
   "id": "5280f94b",
   "metadata": {},
   "outputs": [
    {
     "data": {
      "text/plain": [
       "1    1025\n",
       "0     700\n",
       "2     515\n",
       "Name: Label, dtype: int64"
      ]
     },
     "execution_count": 26,
     "metadata": {},
     "output_type": "execute_result"
    }
   ],
   "source": [
    "kmeans_df['Label'].value_counts()"
   ]
  },
  {
   "cell_type": "code",
   "execution_count": 27,
   "id": "a3a87a1f",
   "metadata": {},
   "outputs": [
    {
     "data": {
      "image/png": "[encoded data removed]",
      "text/plain": [
       "<Figure size 640x480 with 1 Axes>"
      ]
     },
     "metadata": {},
     "output_type": "display_data"
    }
   ],
   "source": [
    "## visalizing the clusters formed \n",
    "\n",
    "sns.scatterplot(kmeans_df['PC1'], kmeans_df['PC2'], hue='Label', data=kmeans_df)\n",
    "plt.show()"
   ]
  },
  {
   "cell_type": "markdown",
   "id": "d8463aed",
   "metadata": {
    "id": "d8463aed"
   },
   "source": [
    "### 17. Apply Agglomerative clustering and segment the data (Use Original data for clustering), and perform cluster analysis by doing bivariate analysis between the cluster label and different features and write your observations."
   ]
  },
  {
   "cell_type": "code",
   "execution_count": 28,
   "id": "b5ca165b",
   "metadata": {
    "id": "b5ca165b"
   },
   "outputs": [
    {
     "data": {
      "image/png": "[encoded data removed]",
      "text/plain": [
       "<Figure size 1800x500 with 1 Axes>"
      ]
     },
     "metadata": {},
     "output_type": "display_data"
    }
   ],
   "source": [
    "## Agglomerative clustering using original data\n",
    "\n",
    "plt.figure(figsize=[18,5])\n",
    "merg = linkage(scaled_features, method='ward')\n",
    "dendrogram(merg, leaf_rotation=90)\n",
    "plt.xlabel('Data points')\n",
    "plt.ylabel('Euclidian distance')\n",
    "plt.title('Dendrogram')\n",
    "plt.show()"
   ]
  },
  {
   "cell_type": "code",
   "execution_count": 29,
   "id": "79764cdf",
   "metadata": {},
   "outputs": [
    {
     "name": "stdout",
     "output_type": "stream",
     "text": [
      "2 0.1974337356644134\n",
      "3 0.20764836363255246\n",
      "4 0.13544466713355788\n",
      "5 0.11316240667286286\n",
      "6 0.12148382880102437\n",
      "7 0.10037424540355985\n",
      "8 0.10132407206971501\n",
      "9 0.09929236942798547\n",
      "10 0.10409063087394792\n",
      "11 0.10475335930944836\n",
      "12 0.10960098835526288\n",
      "13 0.10174126642778794\n",
      "14 0.102212522730052\n"
     ]
    }
   ],
   "source": [
    "## Computing Silhoutte score from Agglomerative clustering\n",
    "\n",
    "for i in range(2,15):\n",
    "    hier = AgglomerativeClustering(n_clusters=i)\n",
    "    hier = hier.fit(scaled_features_df)\n",
    "    labels = hier.fit_predict(scaled_features_df)\n",
    "    print(i, silhouette_score(scaled_features_df, labels))"
   ]
  },
  {
   "cell_type": "markdown",
   "id": "b452e5c7",
   "metadata": {},
   "source": [
    " - We have obtained the Silhoutte scores for varios clusters. Further, it is observed from the above Silhoutte score, that the score is highest for cluster 3.\n",
    " - So we choose K=3 as the optimal cluster size and build an Agglomerative clustering model using the original scaled datasheet"
   ]
  },
  {
   "cell_type": "code",
   "execution_count": 30,
   "id": "f39c0f2e",
   "metadata": {},
   "outputs": [],
   "source": [
    "## Building hierarchial clustering model using the optimal clusters using the original datasheet (K=3)\n",
    "\n",
    "hie_cluster = AgglomerativeClustering(n_clusters=3, affinity='euclidean', linkage='ward')\n",
    "hie_cluster_model = hie_cluster.fit(scaled_features_df)"
   ]
  },
  {
   "cell_type": "code",
   "execution_count": 31,
   "id": "aa51bb9e",
   "metadata": {},
   "outputs": [
    {
     "data": {
      "text/html": [
       "<div>\n",
       "<style scoped>\n",
       "    .dataframe tbody tr th:only-of-type {\n",
       "        vertical-align: middle;\n",
       "    }\n",
       "\n",
       "    .dataframe tbody tr th {\n",
       "        vertical-align: top;\n",
       "    }\n",
       "\n",
       "    .dataframe thead th {\n",
       "        text-align: right;\n",
       "    }\n",
       "</style>\n",
       "<table border=\"1\" class=\"dataframe\">\n",
       "  <thead>\n",
       "    <tr style=\"text-align: right;\">\n",
       "      <th></th>\n",
       "      <th>Labels</th>\n",
       "    </tr>\n",
       "  </thead>\n",
       "  <tbody>\n",
       "    <tr>\n",
       "      <th>0</th>\n",
       "      <td>0</td>\n",
       "    </tr>\n",
       "    <tr>\n",
       "      <th>1</th>\n",
       "      <td>1</td>\n",
       "    </tr>\n",
       "    <tr>\n",
       "      <th>2</th>\n",
       "      <td>0</td>\n",
       "    </tr>\n",
       "    <tr>\n",
       "      <th>3</th>\n",
       "      <td>1</td>\n",
       "    </tr>\n",
       "    <tr>\n",
       "      <th>4</th>\n",
       "      <td>1</td>\n",
       "    </tr>\n",
       "  </tbody>\n",
       "</table>\n",
       "</div>"
      ],
      "text/plain": [
       "   Labels\n",
       "0       0\n",
       "1       1\n",
       "2       0\n",
       "3       1\n",
       "4       1"
      ]
     },
     "execution_count": 31,
     "metadata": {},
     "output_type": "execute_result"
    }
   ],
   "source": [
    "## Creating a dataframe of the labels\n",
    "\n",
    "df_label = pd.DataFrame(hie_cluster_model.labels_, columns=['Labels'])\n",
    "df_label.head()"
   ]
  },
  {
   "cell_type": "code",
   "execution_count": 32,
   "id": "c1c4fa06",
   "metadata": {},
   "outputs": [
    {
     "data": {
      "text/html": [
       "<div>\n",
       "<style scoped>\n",
       "    .dataframe tbody tr th:only-of-type {\n",
       "        vertical-align: middle;\n",
       "    }\n",
       "\n",
       "    .dataframe tbody tr th {\n",
       "        vertical-align: top;\n",
       "    }\n",
       "\n",
       "    .dataframe thead th {\n",
       "        text-align: right;\n",
       "    }\n",
       "</style>\n",
       "<table border=\"1\" class=\"dataframe\">\n",
       "  <thead>\n",
       "    <tr style=\"text-align: right;\">\n",
       "      <th></th>\n",
       "      <th>Education</th>\n",
       "      <th>Marital_Status</th>\n",
       "      <th>Income</th>\n",
       "      <th>Recency</th>\n",
       "      <th>NumWebVisitsMonth</th>\n",
       "      <th>Complain</th>\n",
       "      <th>Total_Expenses</th>\n",
       "      <th>Num_Total_Purchases</th>\n",
       "      <th>Kids</th>\n",
       "      <th>TotalAcceptedCmp</th>\n",
       "      <th>age</th>\n",
       "      <th>Labels</th>\n",
       "    </tr>\n",
       "  </thead>\n",
       "  <tbody>\n",
       "    <tr>\n",
       "      <th>0</th>\n",
       "      <td>2</td>\n",
       "      <td>1</td>\n",
       "      <td>58138.0</td>\n",
       "      <td>58</td>\n",
       "      <td>7</td>\n",
       "      <td>0</td>\n",
       "      <td>1617</td>\n",
       "      <td>25</td>\n",
       "      <td>0</td>\n",
       "      <td>1</td>\n",
       "      <td>66</td>\n",
       "      <td>0</td>\n",
       "    </tr>\n",
       "    <tr>\n",
       "      <th>1</th>\n",
       "      <td>2</td>\n",
       "      <td>1</td>\n",
       "      <td>46344.0</td>\n",
       "      <td>38</td>\n",
       "      <td>5</td>\n",
       "      <td>0</td>\n",
       "      <td>27</td>\n",
       "      <td>6</td>\n",
       "      <td>2</td>\n",
       "      <td>0</td>\n",
       "      <td>69</td>\n",
       "      <td>1</td>\n",
       "    </tr>\n",
       "    <tr>\n",
       "      <th>2</th>\n",
       "      <td>2</td>\n",
       "      <td>0</td>\n",
       "      <td>71613.0</td>\n",
       "      <td>26</td>\n",
       "      <td>4</td>\n",
       "      <td>0</td>\n",
       "      <td>776</td>\n",
       "      <td>21</td>\n",
       "      <td>0</td>\n",
       "      <td>0</td>\n",
       "      <td>58</td>\n",
       "      <td>0</td>\n",
       "    </tr>\n",
       "    <tr>\n",
       "      <th>3</th>\n",
       "      <td>2</td>\n",
       "      <td>0</td>\n",
       "      <td>26646.0</td>\n",
       "      <td>26</td>\n",
       "      <td>6</td>\n",
       "      <td>0</td>\n",
       "      <td>53</td>\n",
       "      <td>8</td>\n",
       "      <td>1</td>\n",
       "      <td>0</td>\n",
       "      <td>39</td>\n",
       "      <td>1</td>\n",
       "    </tr>\n",
       "    <tr>\n",
       "      <th>4</th>\n",
       "      <td>4</td>\n",
       "      <td>0</td>\n",
       "      <td>58293.0</td>\n",
       "      <td>94</td>\n",
       "      <td>5</td>\n",
       "      <td>0</td>\n",
       "      <td>422</td>\n",
       "      <td>19</td>\n",
       "      <td>1</td>\n",
       "      <td>0</td>\n",
       "      <td>42</td>\n",
       "      <td>1</td>\n",
       "    </tr>\n",
       "  </tbody>\n",
       "</table>\n",
       "</div>"
      ],
      "text/plain": [
       "   Education  Marital_Status   Income  Recency  NumWebVisitsMonth  Complain  \\\n",
       "0          2               1  58138.0       58                  7         0   \n",
       "1          2               1  46344.0       38                  5         0   \n",
       "2          2               0  71613.0       26                  4         0   \n",
       "3          2               0  26646.0       26                  6         0   \n",
       "4          4               0  58293.0       94                  5         0   \n",
       "\n",
       "   Total_Expenses  Num_Total_Purchases  Kids  TotalAcceptedCmp  age  Labels  \n",
       "0            1617                   25     0                 1   66       0  \n",
       "1              27                    6     2                 0   69       1  \n",
       "2             776                   21     0                 0   58       0  \n",
       "3              53                    8     1                 0   39       1  \n",
       "4             422                   19     1                 0   42       1  "
      ]
     },
     "execution_count": 32,
     "metadata": {},
     "output_type": "execute_result"
    }
   ],
   "source": [
    "## Joining the label dataframes with unscaled initial cleaned dataframe (dfc)\n",
    "\n",
    "df_hier = data_df.join(df_label)\n",
    "df_hier.head()"
   ]
  },
  {
   "cell_type": "markdown",
   "id": "797a5ecd",
   "metadata": {
    "id": "797a5ecd"
   },
   "source": [
    "### Visualization and Interpretation of results"
   ]
  },
  {
   "cell_type": "code",
   "execution_count": 33,
   "id": "d1e75760",
   "metadata": {
    "id": "d1e75760"
   },
   "outputs": [
    {
     "data": {
      "image/png": "[encoded data removed]",
      "text/plain": [
       "<Figure size 640x480 with 1 Axes>"
      ]
     },
     "metadata": {},
     "output_type": "display_data"
    }
   ],
   "source": [
    "sns.barplot(df_hier['Labels'],df_hier['Total_Expenses'])\n",
    "plt.show()"
   ]
  },
  {
   "cell_type": "markdown",
   "id": "99b5cfee",
   "metadata": {},
   "source": [
    "- Total Expense is much higher for Cluster-0 compared to Cluster-1 and Cluster-2"
   ]
  },
  {
   "cell_type": "code",
   "execution_count": 34,
   "id": "af3f3d63",
   "metadata": {},
   "outputs": [
    {
     "data": {
      "image/png": "[encoded data removed]",
      "text/plain": [
       "<Figure size 640x480 with 1 Axes>"
      ]
     },
     "metadata": {},
     "output_type": "display_data"
    }
   ],
   "source": [
    "sns.barplot(df_hier['Labels'],df_hier['Income'])\n",
    "plt.show()"
   ]
  },
  {
   "cell_type": "markdown",
   "id": "a814db96",
   "metadata": {},
   "source": [
    "- It is observed that Cluster-0 receives maximum income when compared to other Clusters (cluster-1 and cluster-2)"
   ]
  },
  {
   "cell_type": "code",
   "execution_count": 35,
   "id": "3ba9b091",
   "metadata": {},
   "outputs": [
    {
     "data": {
      "image/png": "[encoded data removed]",
      "text/plain": [
       "<Figure size 640x480 with 1 Axes>"
      ]
     },
     "metadata": {},
     "output_type": "display_data"
    }
   ],
   "source": [
    "sns.countplot(df_hier['Marital_Status'], hue='Labels', data=df_hier)\n",
    "plt.show()"
   ]
  },
  {
   "cell_type": "markdown",
   "id": "b3d29652",
   "metadata": {},
   "source": [
    "- It is observed that maximum number of people in all clusters are 'Single' with comparative lesser number of people in 'Relationship'\n",
    "- Population in Cluster-1 is maximum and Cluster-0 has comparatively lesser population while Cluster-2 has very low population"
   ]
  },
  {
   "cell_type": "code",
   "execution_count": 36,
   "id": "dd30b99e",
   "metadata": {},
   "outputs": [
    {
     "data": {
      "image/png": "[encoded data removed]",
      "text/plain": [
       "<Figure size 640x480 with 1 Axes>"
      ]
     },
     "metadata": {},
     "output_type": "display_data"
    }
   ],
   "source": [
    "sns.barplot(df_hier['Labels'],df_hier['Num_Total_Purchases'])\n",
    "plt.show()"
   ]
  },
  {
   "cell_type": "markdown",
   "id": "602fdec7",
   "metadata": {},
   "source": [
    "- Total number of purchases is also higher for Cluster-0 than Cluster-1 and Cluster-2"
   ]
  },
  {
   "cell_type": "markdown",
   "id": "a9af6a1e",
   "metadata": {},
   "source": [
    "#### Inference:\n",
    "- We can conclude that the customers who belong to Cluster-0 receive maximum income and they involve in maximum purchases and also spend maximum amount of expenses\n",
    "- It is observed that the customers from Cluster-1 have the minimal expense and they also receive less income and involve in less number of purchases\n",
    "- Cluster-2 customers fall under the average category in all the analysis of expense, income and purchase"
   ]
  },
  {
   "cell_type": "markdown",
   "id": "36afd95b",
   "metadata": {
    "id": "36afd95b"
   },
   "source": [
    "-----\n",
    "## Happy Learning\n",
    "-----"
   ]
  }
 ],
 "metadata": {
  "colab": {
   "collapsed_sections": [
    "36afd95b"
   ],
   "name": "Unsupervised Learning - Lab session.ipynb",
   "provenance": []
  },
  "kernelspec": {
   "display_name": "Python 3 (ipykernel)",
   "language": "python",
   "name": "python3"
  },
  "language_info": {
   "codemirror_mode": {
    "name": "ipython",
    "version": 3
   },
   "file_extension": ".py",
   "mimetype": "text/x-python",
   "name": "python",
   "nbconvert_exporter": "python",
   "pygments_lexer": "ipython3",
   "version": "3.9.13"
  }
 },
 "nbformat": 4,
 "nbformat_minor": 5
}
